{
  "nbformat": 4,
  "nbformat_minor": 0,
  "metadata": {
    "colab": {
      "provenance": []
    },
    "kernelspec": {
      "name": "python3",
      "display_name": "Python 3"
    },
    "language_info": {
      "name": "python"
    }
  },
  "cells": [
    {
      "cell_type": "markdown",
      "source": [
        "#Restful Api & Flask\n",
        "\n",
        "1. What is a RESTful API?\n",
        "- A RESTful API (Representational State Transfer API) is an architectural style for building web services that use HTTP methods to access and manipulate data. It allows different systems to communicate over the web using a consistent and stateless approach. RESTful APIs are easy to use, scalable, and platform-independent, making them ideal for modern web and mobile applications.\n",
        "\n",
        "2. Explain the concept of API specification.\n",
        "- An API specification is a detailed document or format that defines how an API works. It includes information about available endpoints, request and response formats, supported methods (like GET, POST), data types, authentication methods, and error codes. It serves as a contract between the API provider and the consumers, helping developers understand how to use the API correctly without accessing the codebase.\n",
        "\n",
        "3. What is Flask, and why is it popular for building APIs?\n",
        "- Flask is a lightweight and flexible Python web framework that is commonly used to build web applications and RESTful APIs. It is popular because it is easy to learn, has a simple syntax, and allows developers to create APIs quickly with minimal code. Flask supports extensions like Flask-RESTful and Flask-SQLAlchemy, which make development more efficient and scalable.\n",
        "\n",
        "4. What is routing in Flask?\n",
        "- Routing in Flask refers to mapping URLs (web addresses) to specific functions in your application. These functions are called view functions and are executed when a matching URL is requested. Using @app.route(), you can define the URL path and the associated function, allowing your app to handle different requests and serve the appropriate responses.\n",
        "\n",
        "5. How do you create a simple Flask application?\n",
        "- To create a simple Flask app, you start by importing Flask, creating an app instance, and defining routes using decorators. Then, you run the app using app.run(). A minimal example includes defining a route like '/' that returns a message, such as “Hello, World!”. This helps in getting started quickly and expanding later as the app grows.\n",
        "\n",
        "6. What are HTTP methods used in RESTful APIs?\n",
        "- Common HTTP methods used in RESTful APIs include GET (to retrieve data), POST (to send data), PUT (to update existing data), DELETE (to remove data), and PATCH (to partially update data). Each method has a specific role and is used according to the type of operation you want to perform on the resource.\n",
        "\n",
        "7. What is the purpose of the @app.route() decorator in Flask?\n",
        "- The @app.route() decorator in Flask is used to define the URL path that a view function will handle. It connects a specific URL to a Python function so that when that URL is accessed, the function gets executed and returns a response. This is the foundation of routing in Flask applications.\n",
        "\n",
        "8. What is the difference between GET and POST HTTP methods?\n",
        "- GET is used to request and retrieve data from the server without making any changes. The data is sent via the URL, and it is considered safe and idempotent. POST, on the other hand, is used to send data to the server to create or update a resource. Data is sent in the body of the request, making it more secure for sensitive information.\n",
        "\n",
        "9. How do you handle errors in Flask APIs?\n",
        "- In Flask, errors can be handled using try-except blocks, custom error handlers, or by returning specific HTTP status codes with error messages. You can define handlers for specific exceptions or status codes using @app.errorhandler() and return custom JSON responses, making your API more user-friendly and informative.\n",
        "\n",
        "10. How do you connect Flask to a SQL database?\n",
        "- Flask can be connected to a SQL database using extensions like Flask-SQLAlchemy. You configure the database URI in your Flask app settings and then initialize the SQLAlchemy object. This allows you to define models, interact with the database using Python code, and perform CRUD operations easily.\n",
        "\n",
        "11. What is the role of Flask-SQLAlchemy?\n",
        "- Flask-SQLAlchemy is an extension that integrates SQLAlchemy, a powerful ORM (Object Relational Mapper), with Flask. It simplifies database interactions by allowing developers to work with Python classes and objects instead of writing raw SQL queries. It handles session management, table creation, and querying efficiently.\n",
        "\n",
        "12. What are Flask blueprints, and how are they useful?\n",
        "- Flask Blueprints are a way to organize your application into smaller, modular components. Each blueprint can represent a part of your app (like user management, admin, or API). This makes the code more maintainable, reusable, and easier to manage as your project grows in complexity.\n",
        "\n",
        "13. What is the purpose of Flask's request object?\n",
        "- Flask’s request object provides access to incoming request data, such as form inputs, query parameters, JSON payloads, and headers. It is essential for reading data sent by the client in methods like POST or GET and allows you to interact with the request dynamically in your view functions.\n",
        "\n",
        "14. How do you create a RESTful API endpoint using Flask?\n",
        "- To create a RESTful API endpoint in Flask, you define a route using @app.route() and write a function that handles the request. You can specify the HTTP methods it supports (GET, POST, etc.) and return data, usually in JSON format using Flask's jsonify() function.\n",
        "\n",
        "15. What is the purpose of Flask's jsonify() function?\n",
        "- jsonify() is used to convert Python data types (like dictionaries and lists) into a JSON response. It automatically sets the correct content-type (application/json) for the response, which is important for RESTful APIs, and makes sure the client can understand the response format.\n",
        "\n",
        "16. Explain Flask’s url_for() function.\n",
        "- Flask’s url_for() function is used to dynamically build URLs for a given function name instead of hardcoding paths. It helps in avoiding broken links when routes change and makes the application more flexible and easier to maintain, especially when redirecting or linking to other pages.\n",
        "\n",
        "17. How does Flask handle static files (CSS, JavaScript, etc.)?\n",
        "- Flask serves static files from the static folder by default. You can link to these files in your templates using url_for('static', filename='style.css'). Flask automatically handles requests to static resources, making it easy to include CSS, JavaScript, and images in your app.\n",
        "\n",
        "18. What is an API specification, and how does it help in building a Flask API?\n",
        "- An API specification defines the structure, endpoints, request methods, and data formats of an API. It acts as a blueprint for development and communication between teams. For Flask APIs, it helps ensure consistency, supports automatic documentation generation (e.g., using Swagger), and speeds up integration and testing.\n",
        "\n",
        "19. What are HTTP status codes, and why are they important in a Flask API?\n",
        "- HTTP status codes are three-digit numbers returned by the server to indicate the result of a client’s request. For example, 200 means success, 404 means not found, and 500 indicates a server error. In Flask APIs, sending proper status codes helps clients understand the outcome of their request and handle errors gracefully.\n",
        "\n",
        "20. How do you handle POST requests in Flask?\n",
        "- In Flask, handling POST requests involves defining a route that allows the POST method using the methods parameter in the @app.route() decorator. Within the associated view function, you use the request object from flask to access the data sent by the client. This can be form data (request.form), JSON (request.get_json()), or query parameters. After processing the data—such as inserting it into a database or performing some logic—you typically return a response using jsonify() along with an appropriate HTTP status code like 200 (OK) or 201 (Created). It's important to validate and sanitize user inputs to maintain the integrity and security of the application.\n",
        "\n",
        "21. How would you secure a Flask API?\n",
        "- Securing a Flask API involves several best practices to protect against unauthorized access, data breaches, and common web vulnerabilities. Authentication methods like API keys, OAuth, or JWT (JSON Web Tokens) are commonly implemented to verify user identity. HTTPS should be enforced to encrypt data in transit. Input validation and sanitization are critical to prevent injection attacks. Rate limiting can be added to prevent abuse and denial-of-service (DoS) attacks. You should also enable Cross-Origin Resource Sharing (CORS) policies carefully to control which domains can access your API. Additionally, Flask extensions like Flask-JWT-Extended or Flask-Login can help manage authentication and sessions securely.\n",
        "\n",
        "22. What is the significance of the Flask-RESTful extension?\n",
        "- Flask-RESTful is a powerful Flask extension that simplifies the process of building REST APIs by providing a more structured and object-oriented approach. It allows you to define resources as Python classes with methods that correspond to HTTP verbs (GET, POST, PUT, DELETE, etc.). This leads to cleaner and more maintainable code, especially for large applications. It also offers built-in support for request parsing, input validation, error handling, and automatic HTTP status code management. Flask-RESTful promotes reusable logic and helps developers build robust and scalable APIs with minimal boilerplate code.\n",
        "\n",
        "23. What is the role of Flask’s session object?\n",
        "- The session object in Flask is used to store data that you want to persist across multiple requests for a particular user, such as login status, user preferences, or shopping cart contents. It acts like a temporary memory storage that lasts for the duration of the user's session. Flask's session data is stored client-side in a secure cookie that is cryptographically signed using the app’s secret key to prevent tampering. This makes session management both lightweight and secure. Since the session is stored as a dictionary, you can easily set and retrieve values using standard key-value syntax, making it simple to maintain user-specific data between requests."
      ],
      "metadata": {
        "id": "MVh0AoNPEEMO"
      }
    },
    {
      "cell_type": "code",
      "execution_count": null,
      "metadata": {
        "id": "iGtWmb0XD8Y8"
      },
      "outputs": [],
      "source": [
        "# 1. How do you create a basic Flask application?\n",
        "\n",
        "\n",
        "from flask import Flask\n",
        "app = Flask(__name__)\n",
        "\n",
        "@app.route('/')\n",
        "def home():\n",
        "    return 'Hello, Flask!'\n",
        "\n",
        "# Output: Hello, Flask!"
      ]
    },
    {
      "cell_type": "code",
      "source": [
        "# 2. How do you serve static files like images or CSS in Flask?\n",
        "\n",
        "\n",
        "# Place your CSS/images in a folder named 'static'\n",
        "# Example usage in HTML template:\n",
        "# <link rel=\"stylesheet\" href=\"{{ url_for('static', filename='style.css') }}\">"
      ],
      "metadata": {
        "id": "Lv3q_DFiHRdj"
      },
      "execution_count": null,
      "outputs": []
    },
    {
      "cell_type": "code",
      "source": [
        "# 3. How do you define different routes with different HTTP methods in Flask?\n",
        "\n",
        "\n",
        "from flask import Flask, request\n",
        "app = Flask(__name__)\n",
        "\n",
        "@app.route('/submit', methods=['GET', 'POST'])\n",
        "def submit():\n",
        "    if request.method == 'POST':\n",
        "        return 'Posted'\n",
        "    return 'Got it'\n",
        "\n",
        "# Output: Posted or Got it"
      ],
      "metadata": {
        "id": "yqN-05JZHRaF"
      },
      "execution_count": null,
      "outputs": []
    },
    {
      "cell_type": "code",
      "source": [
        "# 4. How do you render HTML templates in Flask?\n",
        "\n",
        "\n",
        "from flask import Flask, render_template\n",
        "app = Flask(__name__)\n",
        "\n",
        "@app.route('/')\n",
        "def home():\n",
        "    return render_template('index.html')\n",
        "\n",
        "# Output: Contents of index.html"
      ],
      "metadata": {
        "id": "zRDOGunJHRW4"
      },
      "execution_count": null,
      "outputs": []
    },
    {
      "cell_type": "code",
      "source": [
        "# 5. How can you generate URLs for routes in Flask using url_for?\n",
        "\n",
        "\n",
        "from flask import Flask, url_for\n",
        "app = Flask(__name__)\n",
        "\n",
        "@app.route('/user/<name>')\n",
        "def user(name):\n",
        "    return f'User {name}'\n",
        "\n",
        "@app.route('/')\n",
        "def home():\n",
        "    return url_for('user', name='Shubham')\n",
        "\n",
        "# Output: /user/Shubham"
      ],
      "metadata": {
        "id": "HXwj6jOwHRT5"
      },
      "execution_count": null,
      "outputs": []
    },
    {
      "cell_type": "code",
      "source": [
        "# 6. How do you handle forms in Flask?\n",
        "\n",
        "\n",
        "from flask import Flask, request\n",
        "app = Flask(__name__)\n",
        "\n",
        "@app.route('/form', methods=['POST'])\n",
        "def form():\n",
        "    name = request.form['name']\n",
        "    return f'Hello {name}'\n",
        "\n",
        "# Output: Hello <name>"
      ],
      "metadata": {
        "id": "AjGBBaMwHRQ6"
      },
      "execution_count": null,
      "outputs": []
    },
    {
      "cell_type": "code",
      "source": [
        "7. How can you validate form data in Flask?\n",
        "\n",
        "\n",
        "from flask import Flask, request\n",
        "app = Flask(__name__)\n",
        "\n",
        "@app.route('/validate', methods=['POST'])\n",
        "def validate():\n",
        "    name = request.form.get('name')\n",
        "    if name:\n",
        "        return 'Valid'\n",
        "    return 'Invalid'\n",
        "\n",
        "# Output: Valid or Invalid"
      ],
      "metadata": {
        "id": "w673Q-vNHRNu"
      },
      "execution_count": null,
      "outputs": []
    },
    {
      "cell_type": "code",
      "source": [
        "# 8. How do you manage sessions in Flask?\n",
        "\n",
        "\n",
        "from flask import Flask, session\n",
        "app = Flask(__name__)\n",
        "app.secret_key = 'secret'\n",
        "\n",
        "@app.route('/')\n",
        "def set_session():\n",
        "    session['user'] = 'Shubham'\n",
        "    return 'Session set'\n",
        "\n",
        "@app.route('/get')\n",
        "def get_session():\n",
        "    return session.get('user', 'Not Found')\n",
        "\n",
        "# Output: Session set or Shubham"
      ],
      "metadata": {
        "id": "BB0Xhh_7HRKn"
      },
      "execution_count": null,
      "outputs": []
    },
    {
      "cell_type": "code",
      "source": [
        "# 9. How do you redirect to a different route in Flask?\n",
        "\n",
        "\n",
        "from flask import Flask, redirect, url_for\n",
        "app = Flask(__name__)\n",
        "\n",
        "@app.route('/')\n",
        "def index():\n",
        "    return redirect(url_for('success'))\n",
        "\n",
        "@app.route('/success')\n",
        "def success():\n",
        "    return 'Redirected!'\n",
        "\n",
        "# Output: Redirected!"
      ],
      "metadata": {
        "id": "trr5NPLNHRHU"
      },
      "execution_count": null,
      "outputs": []
    },
    {
      "cell_type": "code",
      "source": [
        "# 10. How do you handle errors in Flask (e.g., 404)?\n",
        "\n",
        "\n",
        "from flask import Flask\n",
        "app = Flask(__name__)\n",
        "\n",
        "@app.errorhandler(404)\n",
        "def page_not_found(e):\n",
        "    return '404 Error', 404\n",
        "\n",
        "# Output: 404 Error"
      ],
      "metadata": {
        "id": "TbrblZTTHQ8c"
      },
      "execution_count": null,
      "outputs": []
    },
    {
      "cell_type": "code",
      "source": [
        "11. How do you structure a Flask app using Blueprints?\n",
        "\n",
        "\n",
        "# main.py\n",
        "from flask import Flask\n",
        "from my_blueprint import my_bp\n",
        "\n",
        "app = Flask(__name__)\n",
        "app.register_blueprint(my_bp)\n",
        "\n",
        "# my_blueprint.py\n",
        "from flask import Blueprint\n",
        "\n",
        "my_bp = Blueprint('my_bp', __name__)\n",
        "\n",
        "@my_bp.route('/')\n",
        "def index():\n",
        "    return 'Blueprint Works'\n",
        "\n",
        "# Output: Blueprint Works"
      ],
      "metadata": {
        "id": "7tszk55EK8fb"
      },
      "execution_count": null,
      "outputs": []
    },
    {
      "cell_type": "code",
      "source": [
        "12. How do you define a custom Jinja filter in Flask?\n",
        "\n",
        "\n",
        "from flask import Flask, render_template_string\n",
        "app = Flask(__name__)\n",
        "\n",
        "@app.template_filter('reverse')\n",
        "def reverse_filter(s):\n",
        "    return s[::-1]\n",
        "\n",
        "@app.route('/')\n",
        "def index():\n",
        "    return render_template_string(\"{{ 'hello' | reverse }}\")\n",
        "\n",
        "# Output: olleh"
      ],
      "metadata": {
        "id": "-WHQzh-zK8cC"
      },
      "execution_count": null,
      "outputs": []
    },
    {
      "cell_type": "code",
      "source": [
        "13. How can you redirect with query parameters in Flask?\n",
        "\n",
        "\n",
        "from flask import Flask, redirect, url_for\n",
        "app = Flask(__name__)\n",
        "\n",
        "@app.route('/')\n",
        "def index():\n",
        "    return redirect(url_for('hello', name='Shubham'))\n",
        "\n",
        "@app.route('/hello')\n",
        "def hello():\n",
        "    return 'Hello!'\n",
        "\n",
        "# Output: Hello!"
      ],
      "metadata": {
        "id": "m__U3Bo8K8Y0"
      },
      "execution_count": null,
      "outputs": []
    },
    {
      "cell_type": "code",
      "source": [
        "14. How do you return JSON responses in Flask?\n",
        "\n",
        "\n",
        "from flask import Flask, jsonify\n",
        "app = Flask(__name__)\n",
        "\n",
        "@app.route('/data')\n",
        "def data():\n",
        "    return jsonify({'name': 'Shubham', 'age': 25})\n",
        "\n",
        "# Output: {\"name\": \"Shubham\", \"age\": 25}\n"
      ],
      "metadata": {
        "id": "hu3KCtXYK8Vt"
      },
      "execution_count": null,
      "outputs": []
    },
    {
      "cell_type": "code",
      "source": [
        "15. How do you capture URL parameters in Flask?\n",
        "\n",
        "\n",
        "from flask import Flask\n",
        "app = Flask(__name__)\n",
        "\n",
        "@app.route('/user/<username>')\n",
        "def show_user(username):\n",
        "    return f'Hello {username}'\n",
        "\n",
        "# Output: Hello Shubham (if /user/Shubham is visited)"
      ],
      "metadata": {
        "id": "XMYwNNPlK8SU"
      },
      "execution_count": null,
      "outputs": []
    }
  ]
}